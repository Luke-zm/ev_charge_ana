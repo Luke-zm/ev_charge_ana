{
 "cells": [
  {
   "cell_type": "code",
   "execution_count": 1,
   "id": "b8ea47c4",
   "metadata": {},
   "outputs": [],
   "source": [
    "#note book to test and pre process the data"
   ]
  },
  {
   "cell_type": "code",
   "execution_count": 1,
   "id": "64888aa8",
   "metadata": {},
   "outputs": [],
   "source": [
    "import pandas as pd\n",
    "import numpy as np\n",
    "import seaborn as sns\n",
    "import matplotlib.pyplot as plt"
   ]
  },
  {
   "cell_type": "code",
   "execution_count": 2,
   "id": "47f57636",
   "metadata": {},
   "outputs": [
    {
     "name": "stdout",
     "output_type": "stream",
     "text": [
      "         Unnamed: 0  charging_event_id         cp_id       con_num  \\\n",
      "count  24224.000000       2.422400e+04  24224.000000  24224.000000   \n",
      "mean   12111.500000       6.685242e+06  69864.836773      1.517875   \n",
      "std     6993.010797       3.232761e+06   6534.680513      0.499691   \n",
      "min        0.000000       2.339780e+05  51467.000000      1.000000   \n",
      "25%     6055.750000       2.642946e+06  70201.000000      1.000000   \n",
      "50%    12111.500000       8.134550e+06  70203.000000      2.000000   \n",
      "75%    18167.250000       9.152640e+06  70206.000000      2.000000   \n",
      "max    24223.000000       1.265490e+07  81028.000000      2.000000   \n",
      "\n",
      "          total_kwh  charging_cost  \n",
      "count  23927.000000    2278.000000  \n",
      "mean      11.322781       0.316945  \n",
      "std        9.532230       0.465388  \n",
      "min      -94.750000       0.000000  \n",
      "25%        6.520000       0.000000  \n",
      "50%        9.900000       0.000000  \n",
      "75%       14.785000       1.000000  \n",
      "max      444.990000       1.000000  \n",
      "   Unnamed: 0  charging_event_id   user_id  cp_id  con_num  start_date  \\\n",
      "0           0            4105202  User 690  70204        1  01/01/2018   \n",
      "1           1            4105706  User 406  70204        2  02/01/2018   \n",
      "2           2            4105757  User 716  70206        2  02/01/2018   \n",
      "3           3            4105869  User 706  70207        2  02/01/2018   \n",
      "4           4            4105870  User 706  70207        2  02/01/2018   \n",
      "\n",
      "  start_time    end_date  total_kwh                       site  \\\n",
      "0      16:11  01/01/2018       5.89    Woodhouse Lane Car Park   \n",
      "1      07:05  02/01/2018      14.30    Woodhouse Lane Car Park   \n",
      "2      08:01  02/01/2018      18.66  Elland Road Park and Ride   \n",
      "3      09:09  02/01/2018       0.02  Elland Road Park and Ride   \n",
      "4      09:11  02/01/2018       5.95  Elland Road Park and Ride   \n",
      "\n",
      "         charger_model  uid  charging_cost  \n",
      "0  APT 7kW Dual Outlet  NaN            NaN  \n",
      "1  APT 7kW Dual Outlet  NaN            NaN  \n",
      "2  APT 7kW Dual Outlet  NaN            NaN  \n",
      "3  APT 7kW Dual Outlet  NaN            NaN  \n",
      "4  APT 7kW Dual Outlet  NaN            NaN  \n",
      "<class 'pandas.core.frame.DataFrame'>\n",
      "RangeIndex: 24224 entries, 0 to 24223\n",
      "Data columns (total 13 columns):\n",
      " #   Column             Non-Null Count  Dtype  \n",
      "---  ------             --------------  -----  \n",
      " 0   Unnamed: 0         24224 non-null  int64  \n",
      " 1   charging_event_id  24224 non-null  int64  \n",
      " 2   user_id            23213 non-null  object \n",
      " 3   cp_id              24224 non-null  int64  \n",
      " 4   con_num            24224 non-null  int64  \n",
      " 5   start_date         24224 non-null  object \n",
      " 6   start_time         24224 non-null  object \n",
      " 7   end_date           23927 non-null  object \n",
      " 8   total_kwh          23927 non-null  float64\n",
      " 9   site               24224 non-null  object \n",
      " 10  charger_model      24224 non-null  object \n",
      " 11  uid                1011 non-null   object \n",
      " 12  charging_cost      2278 non-null   float64\n",
      "dtypes: float64(2), int64(4), object(7)\n",
      "memory usage: 2.4+ MB\n"
     ]
    }
   ],
   "source": [
    "df_ori = pd.read_csv('D:\\\\2023_Semester1\\\\IND5003 data analysis for sense-making\\\\Project_Data Analysis on Vehicle Charge Plots\\\\data\\\\combined_ev_charging_data.csv')\n",
    "print(df_ori.describe())\n",
    "print(df_ori.head())\n",
    "df_ori.info()"
   ]
  },
  {
   "cell_type": "code",
   "execution_count": 3,
   "id": "664e3ae8",
   "metadata": {},
   "outputs": [
    {
     "name": "stdout",
     "output_type": "stream",
     "text": [
      "count    2278.000000\n",
      "mean        0.316945\n",
      "std         0.465388\n",
      "min         0.000000\n",
      "25%         0.000000\n",
      "50%         0.000000\n",
      "75%         1.000000\n",
      "max         1.000000\n",
      "Name: charging_cost, dtype: float64\n"
     ]
    }
   ],
   "source": [
    "print(df_ori['charging_cost'].dropna().describe())"
   ]
  },
  {
   "cell_type": "markdown",
   "id": "15067ef1",
   "metadata": {},
   "source": [
    "1. For charging_cost, ealisy to see that all of them not only have no measurement unit but also contains no number other than 0 and 1, so it can be considered as useless. \n",
    "\n",
    "2. By reading the dataset we can see that when user_id is abscent, uid contains the 'id' information, so we can append uid into user_id accordingly to fill the NaNs."
   ]
  },
  {
   "cell_type": "code",
   "execution_count": 4,
   "id": "c78cb786",
   "metadata": {},
   "outputs": [
    {
     "name": "stdout",
     "output_type": "stream",
     "text": [
      "<class 'pandas.core.frame.DataFrame'>\n",
      "RangeIndex: 24224 entries, 0 to 24223\n",
      "Data columns (total 11 columns):\n",
      " #   Column             Non-Null Count  Dtype  \n",
      "---  ------             --------------  -----  \n",
      " 0   Unnamed: 0         24224 non-null  int64  \n",
      " 1   charging_event_id  24224 non-null  int64  \n",
      " 2   user_id            24224 non-null  object \n",
      " 3   cp_id              24224 non-null  int64  \n",
      " 4   con_num            24224 non-null  int64  \n",
      " 5   start_date         24224 non-null  object \n",
      " 6   start_time         24224 non-null  object \n",
      " 7   end_date           23927 non-null  object \n",
      " 8   total_kwh          23927 non-null  float64\n",
      " 9   site               24224 non-null  object \n",
      " 10  charger_model      24224 non-null  object \n",
      "dtypes: float64(1), int64(4), object(6)\n",
      "memory usage: 2.0+ MB\n"
     ]
    }
   ],
   "source": [
    "def fill_missing_values(df, i, j):\n",
    "    # use uid to fill the user id\n",
    "    df[df.columns[i]].fillna(df[df.columns[j]], inplace=True)\n",
    "    return df\n",
    "df = fill_missing_values(df_ori, 2, 11)\n",
    "df = df_ori.drop(df_ori.columns[-2:], axis=1)\n",
    "df.info()"
   ]
  },
  {
   "cell_type": "markdown",
   "id": "462761f7",
   "metadata": {},
   "source": [
    "Now all the userid info are filled, need to analyze how to deal with end_date and total_kwh"
   ]
  },
  {
   "cell_type": "code",
   "execution_count": 5,
   "id": "c2da86af",
   "metadata": {},
   "outputs": [
    {
     "name": "stdout",
     "output_type": "stream",
     "text": [
      "count                          19847\n",
      "mean      49 days 09:46:58.219378243\n",
      "std      968 days 07:48:14.802703088\n",
      "min              -151 days +00:00:00\n",
      "25%                -1 days +00:00:00\n",
      "50%                  0 days 00:00:00\n",
      "75%                  0 days 00:00:00\n",
      "max              18396 days 00:00:00\n",
      "Name: time_gap, dtype: object\n",
      "<class 'pandas.core.frame.DataFrame'>\n",
      "RangeIndex: 24224 entries, 0 to 24223\n",
      "Data columns (total 12 columns):\n",
      " #   Column             Non-Null Count  Dtype          \n",
      "---  ------             --------------  -----          \n",
      " 0   Unnamed: 0         24224 non-null  int64          \n",
      " 1   charging_event_id  24224 non-null  int64          \n",
      " 2   user_id            24224 non-null  object         \n",
      " 3   cp_id              24224 non-null  int64          \n",
      " 4   con_num            24224 non-null  int64          \n",
      " 5   start_date         20193 non-null  datetime64[ns] \n",
      " 6   start_time         24224 non-null  object         \n",
      " 7   end_date           19960 non-null  datetime64[ns] \n",
      " 8   total_kwh          23927 non-null  float64        \n",
      " 9   site               24224 non-null  object         \n",
      " 10  charger_model      24224 non-null  object         \n",
      " 11  time_gap           19847 non-null  timedelta64[ns]\n",
      "dtypes: datetime64[ns](2), float64(1), int64(4), object(4), timedelta64[ns](1)\n",
      "memory usage: 2.2+ MB\n"
     ]
    }
   ],
   "source": [
    "df['start_date'] = pd.to_datetime(df['start_date'], format='%d/%m/%Y', errors='coerce')\n",
    "df['end_date'] = pd.to_datetime(df['end_date'], format='%d/%m/%Y', errors='coerce')\n",
    "df['time_gap'] = df['start_date'] - df['end_date']\n",
    "print(df.time_gap.describe())\n",
    "df.info()"
   ]
  },
  {
   "cell_type": "markdown",
   "id": "1f3a85aa",
   "metadata": {},
   "source": [
    "as we can see that over 75% of time_gap are 0 days, which means that majority of people will charge and leave in the same date. so we can fill the missing value in end_date with start_date\n",
    "\n",
    "we also need to change the date into same format\n",
    "\n",
    "remember that if time_gap < 0, the format is wrong"
   ]
  },
  {
   "cell_type": "code",
   "execution_count": 14,
   "id": "defbbdf3",
   "metadata": {},
   "outputs": [
    {
     "name": "stdout",
     "output_type": "stream",
     "text": [
      "<class 'pandas.core.frame.DataFrame'>\n",
      "RangeIndex: 24224 entries, 0 to 24223\n",
      "Data columns (total 12 columns):\n",
      " #   Column             Non-Null Count  Dtype          \n",
      "---  ------             --------------  -----          \n",
      " 0   Unnamed: 0         24224 non-null  int64          \n",
      " 1   charging_event_id  24224 non-null  int64          \n",
      " 2   user_id            24224 non-null  object         \n",
      " 3   cp_id              24224 non-null  int64          \n",
      " 4   con_num            24224 non-null  int64          \n",
      " 5   start_date         24224 non-null  datetime64[ns] \n",
      " 6   start_time         24224 non-null  object         \n",
      " 7   end_date           24224 non-null  datetime64[ns] \n",
      " 8   total_kwh          23927 non-null  float64        \n",
      " 9   site               24224 non-null  object         \n",
      " 10  charger_model      24224 non-null  object         \n",
      " 11  time_gap           24224 non-null  timedelta64[ns]\n",
      "dtypes: datetime64[ns](2), float64(1), int64(4), object(4), timedelta64[ns](1)\n",
      "memory usage: 2.2+ MB\n",
      "None\n"
     ]
    },
    {
     "data": {
      "text/plain": [
       "count                           24224\n",
       "mean       60 days 07:39:23.540290621\n",
       "std      1053 days 04:16:04.217915424\n",
       "min               -187 days +00:00:00\n",
       "25%                 -1 days +00:00:00\n",
       "50%                   0 days 00:00:00\n",
       "75%                   0 days 00:00:00\n",
       "max               18396 days 00:00:00\n",
       "Name: time_gap, dtype: object"
      ]
     },
     "execution_count": 14,
     "metadata": {},
     "output_type": "execute_result"
    }
   ],
   "source": [
    "df['start_date'].fillna(pd.to_datetime(df_ori['start_date'], format='%m/%d/%Y', errors='coerce'), inplace=True)\n",
    "#df['end_date'] = df_ori['end_date']\n",
    "df['end_date'].fillna(pd.to_datetime(df_ori['end_date'], format='%m/%d/%Y', errors='coerce'), inplace=True)\n",
    "df = fill_missing_values(df, 7, 5)# fill the rest NaN in end_date with start_date\n",
    "df.end_date\n",
    "df['time_gap'] = df['start_date'] - df['end_date']\n",
    "print(df.info())\n",
    "df.time_gap.describe()"
   ]
  },
  {
   "cell_type": "markdown",
   "id": "bdf4301c",
   "metadata": {},
   "source": [
    "correctly calculated the time_gap means that all start_date and end_date are in the same format."
   ]
  },
  {
   "cell_type": "code",
   "execution_count": 18,
   "id": "acd481ce",
   "metadata": {},
   "outputs": [
    {
     "name": "stdout",
     "output_type": "stream",
     "text": [
      "       Unnamed: 0  charging_event_id   user_id  cp_id  con_num start_date  \\\n",
      "2051         2051             278553   User 42  70203        1 2014-12-08   \n",
      "2169         2169            9424614  User 744  80164        2 2020-01-07   \n",
      "2213         2213            9430599  User 753  80164        2 2020-01-08   \n",
      "2310         2310            9446573  User 541  80164        2 2020-01-12   \n",
      "2351         2351            9450584  User 489  80164        2 2020-01-13   \n",
      "...           ...                ...       ...    ...      ...        ...   \n",
      "22885       22885            2083321  User 624  70202        2 2016-11-30   \n",
      "22886       22886            2083325  User 623  70202        1 2016-11-30   \n",
      "22887       22887            2083330  User 621  70201        2 2016-11-30   \n",
      "22888       22888            2083342  User 613  70200        2 2016-11-30   \n",
      "22889       22889            2083391  User 612  70200        1 2016-11-30   \n",
      "\n",
      "      start_time   end_date  total_kwh                       site  \\\n",
      "2051       10:34 2014-08-13      19.77    Woodhouse Lane Car Park   \n",
      "2169       14:30 1970-01-01      19.41  Elland Road Park and Ride   \n",
      "2213       20:28 1970-01-01      21.40  Elland Road Park and Ride   \n",
      "2310       21:54 1970-01-01      11.66  Elland Road Park and Ride   \n",
      "2351       18:49 1970-01-01      24.88  Elland Road Park and Ride   \n",
      "...          ...        ...        ...                        ...   \n",
      "22885      19:03 2016-01-12      11.99    Woodhouse Lane Car Park   \n",
      "22886      19:05 2016-01-12      16.91    Woodhouse Lane Car Park   \n",
      "22887      19:08 2016-01-12      11.14    Woodhouse Lane Car Park   \n",
      "22888      19:11 2016-01-12       3.52    Woodhouse Lane Car Park   \n",
      "22889      19:18 2016-01-12       9.93    Woodhouse Lane Car Park   \n",
      "\n",
      "                  charger_model   time_gap  \n",
      "2051        APT 7kW Dual Outlet   117 days  \n",
      "2169   APT Triple Rapid Charger 18268 days  \n",
      "2213   APT Triple Rapid Charger 18269 days  \n",
      "2310   APT Triple Rapid Charger 18273 days  \n",
      "2351   APT Triple Rapid Charger 18274 days  \n",
      "...                         ...        ...  \n",
      "22885       APT 7kW Dual Outlet   323 days  \n",
      "22886       APT 7kW Dual Outlet   323 days  \n",
      "22887       APT 7kW Dual Outlet   323 days  \n",
      "22888       APT 7kW Dual Outlet   323 days  \n",
      "22889       APT 7kW Dual Outlet   323 days  \n",
      "\n",
      "[241 rows x 12 columns]\n"
     ]
    }
   ],
   "source": [
    "select = df[df['time_gap'] > '0']\n",
    "print(select)"
   ]
  },
  {
   "cell_type": "code",
   "execution_count": 15,
   "id": "827b2bc1",
   "metadata": {},
   "outputs": [
    {
     "data": {
      "text/plain": [
       "total_kwh\n",
       " 0.000     775\n",
       " 0.010      55\n",
       " 0.020      42\n",
       " 9.050      29\n",
       " 6.230      29\n",
       "          ... \n",
       " 10.736      1\n",
       " 1.190       1\n",
       " 69.510      1\n",
       " 27.970      1\n",
       "-4.260       1\n",
       "Name: count, Length: 3660, dtype: int64"
      ]
     },
     "execution_count": 15,
     "metadata": {},
     "output_type": "execute_result"
    },
    {
     "data": {
      "image/png": "[encoded data removed]",
      "text/plain": [
       "<Figure size 640x480 with 1 Axes>"
      ]
     },
     "metadata": {},
     "output_type": "display_data"
    }
   ],
   "source": [
    "tk_vc = df['total_kwh'].value_counts()\n",
    "x = tk_vc.index\n",
    "y = tk_vc.values\n",
    "plt.bar(x, y)\n",
    "tk_vc"
   ]
  },
  {
   "cell_type": "markdown",
   "id": "dc296b1f",
   "metadata": {},
   "source": []
  },
  {
   "cell_type": "code",
   "execution_count": 52,
   "id": "97563ab7",
   "metadata": {},
   "outputs": [
    {
     "data": {
      "text/plain": [
       "'x = id_vc.index\\ny = id_vc.values\\nplt.bar(x, y)'"
      ]
     },
     "execution_count": 52,
     "metadata": {},
     "output_type": "execute_result"
    }
   ],
   "source": [
    "id_vc = df['user_id'].value_counts()\n",
    "'''x = id_vc.index\n",
    "y = id_vc.values\n",
    "plt.bar(x, y)'''\n"
   ]
  },
  {
   "cell_type": "code",
   "execution_count": null,
   "id": "274c96c8",
   "metadata": {},
   "outputs": [],
   "source": []
  }
 ],
 "metadata": {
  "kernelspec": {
   "display_name": "Python 3 (ipykernel)",
   "language": "python",
   "name": "python3"
  },
  "language_info": {
   "codemirror_mode": {
    "name": "ipython",
    "version": 3
   },
   "file_extension": ".py",
   "mimetype": "text/x-python",
   "name": "python",
   "nbconvert_exporter": "python",
   "pygments_lexer": "ipython3",
   "version": "3.11.5"
  }
 },
 "nbformat": 4,
 "nbformat_minor": 5
}
