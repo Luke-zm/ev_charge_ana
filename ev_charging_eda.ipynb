{
  "nbformat": 4,
  "nbformat_minor": 0,
  "metadata": {
    "colab": {
      "provenance": [],
      "authorship_tag": "ABX9TyMB1Nqpbz+GcWEOVxWk7RV1",
      "include_colab_link": true
    },
    "kernelspec": {
      "name": "python3",
      "display_name": "Python 3"
    },
    "language_info": {
      "name": "python"
    }
  },
  "cells": [
    {
      "cell_type": "markdown",
      "metadata": {
        "id": "view-in-github",
        "colab_type": "text"
      },
      "source": [
        "<a href=\"https://colab.research.google.com/github/Luke-zm/ev_charge_ana/blob/zm/ev_charging_eda.ipynb\" target=\"_parent\"><img src=\"https://colab.research.google.com/assets/colab-badge.svg\" alt=\"Open In Colab\"/></a>"
      ]
    },
    {
      "cell_type": "code",
      "execution_count": 9,
      "metadata": {
        "id": "Kub8n0RFsyBG"
      },
      "outputs": [],
      "source": [
        "# Import the necessary packages for EDA\n",
        "import pandas as pd\n",
        "import numpy as np\n",
        "import seaborn as sns\n",
        "import matplotlib.pyplot as plt\n",
        "# Import datetime for datetime processing\n",
        "from datetime import datetime, timedelta"
      ]
    },
    {
      "cell_type": "code",
      "source": [
        "# Import the CSV file to work with\n",
        "url = \"https://raw.githubusercontent.com/Luke-zm/ev_charge_ana/main/pre_ana_data/updated_combined_ev_charging_data.csv\"\n",
        "leeds_comb_df = pd.read_csv(url)\n",
        "leeds_comb_df.head()"
      ],
      "metadata": {
        "colab": {
          "base_uri": "https://localhost:8080/",
          "height": 206
        },
        "id": "vFja4zTLtUhW",
        "outputId": "a021a4d1-3314-4134-bedc-3137fb16b085"
      },
      "execution_count": 10,
      "outputs": [
        {
          "output_type": "execute_result",
          "data": {
            "text/plain": [
              "   charging_event_id       user_id    cp_id  con_num  start_date start_time  \\\n",
              "0           383322.0   14Q3User 31  70206.0      2.0  31/12/2014      11:25   \n",
              "1           383031.0  14Q3User 635  70206.0      1.0  30/12/2014      13:58   \n",
              "2           381777.0   14Q3User 38  70201.0      2.0  27/12/2014      18:13   \n",
              "3           380951.0  14Q3User 629  70208.0      1.0  24/12/2014      11:37   \n",
              "4           377470.0  14Q3User 626  70204.0      2.0  18/12/2014      09:29   \n",
              "\n",
              "     end_date end_time  total_kwh                       site  \\\n",
              "0  31/12/2014    11:35       0.57  Elland Road Park and Ride   \n",
              "1  30/12/2014    15:24       4.52  Elland Road Park and Ride   \n",
              "2  27/12/2014    19:08       0.00    Woodhouse Lane Car Park   \n",
              "3  24/12/2014    12:06       3.16  Elland Road Park and Ride   \n",
              "4  18/12/2014    11:56       3.16    Woodhouse Lane Car Park   \n",
              "\n",
              "         charger_model  charging_cost  \n",
              "0  APT 7kW Dual Outlet            NaN  \n",
              "1  APT 7kW Dual Outlet            NaN  \n",
              "2  APT 7kW Dual Outlet            NaN  \n",
              "3  APT 7kW Dual Outlet            NaN  \n",
              "4  APT 7kW Dual Outlet            NaN  "
            ],
            "text/html": [
              "\n",
              "  <div id=\"df-c2c778e7-7171-457b-ba4c-44abdb384dc2\" class=\"colab-df-container\">\n",
              "    <div>\n",
              "<style scoped>\n",
              "    .dataframe tbody tr th:only-of-type {\n",
              "        vertical-align: middle;\n",
              "    }\n",
              "\n",
              "    .dataframe tbody tr th {\n",
              "        vertical-align: top;\n",
              "    }\n",
              "\n",
              "    .dataframe thead th {\n",
              "        text-align: right;\n",
              "    }\n",
              "</style>\n",
              "<table border=\"1\" class=\"dataframe\">\n",
              "  <thead>\n",
              "    <tr style=\"text-align: right;\">\n",
              "      <th></th>\n",
              "      <th>charging_event_id</th>\n",
              "      <th>user_id</th>\n",
              "      <th>cp_id</th>\n",
              "      <th>con_num</th>\n",
              "      <th>start_date</th>\n",
              "      <th>start_time</th>\n",
              "      <th>end_date</th>\n",
              "      <th>end_time</th>\n",
              "      <th>total_kwh</th>\n",
              "      <th>site</th>\n",
              "      <th>charger_model</th>\n",
              "      <th>charging_cost</th>\n",
              "    </tr>\n",
              "  </thead>\n",
              "  <tbody>\n",
              "    <tr>\n",
              "      <th>0</th>\n",
              "      <td>383322.0</td>\n",
              "      <td>14Q3User 31</td>\n",
              "      <td>70206.0</td>\n",
              "      <td>2.0</td>\n",
              "      <td>31/12/2014</td>\n",
              "      <td>11:25</td>\n",
              "      <td>31/12/2014</td>\n",
              "      <td>11:35</td>\n",
              "      <td>0.57</td>\n",
              "      <td>Elland Road Park and Ride</td>\n",
              "      <td>APT 7kW Dual Outlet</td>\n",
              "      <td>NaN</td>\n",
              "    </tr>\n",
              "    <tr>\n",
              "      <th>1</th>\n",
              "      <td>383031.0</td>\n",
              "      <td>14Q3User 635</td>\n",
              "      <td>70206.0</td>\n",
              "      <td>1.0</td>\n",
              "      <td>30/12/2014</td>\n",
              "      <td>13:58</td>\n",
              "      <td>30/12/2014</td>\n",
              "      <td>15:24</td>\n",
              "      <td>4.52</td>\n",
              "      <td>Elland Road Park and Ride</td>\n",
              "      <td>APT 7kW Dual Outlet</td>\n",
              "      <td>NaN</td>\n",
              "    </tr>\n",
              "    <tr>\n",
              "      <th>2</th>\n",
              "      <td>381777.0</td>\n",
              "      <td>14Q3User 38</td>\n",
              "      <td>70201.0</td>\n",
              "      <td>2.0</td>\n",
              "      <td>27/12/2014</td>\n",
              "      <td>18:13</td>\n",
              "      <td>27/12/2014</td>\n",
              "      <td>19:08</td>\n",
              "      <td>0.00</td>\n",
              "      <td>Woodhouse Lane Car Park</td>\n",
              "      <td>APT 7kW Dual Outlet</td>\n",
              "      <td>NaN</td>\n",
              "    </tr>\n",
              "    <tr>\n",
              "      <th>3</th>\n",
              "      <td>380951.0</td>\n",
              "      <td>14Q3User 629</td>\n",
              "      <td>70208.0</td>\n",
              "      <td>1.0</td>\n",
              "      <td>24/12/2014</td>\n",
              "      <td>11:37</td>\n",
              "      <td>24/12/2014</td>\n",
              "      <td>12:06</td>\n",
              "      <td>3.16</td>\n",
              "      <td>Elland Road Park and Ride</td>\n",
              "      <td>APT 7kW Dual Outlet</td>\n",
              "      <td>NaN</td>\n",
              "    </tr>\n",
              "    <tr>\n",
              "      <th>4</th>\n",
              "      <td>377470.0</td>\n",
              "      <td>14Q3User 626</td>\n",
              "      <td>70204.0</td>\n",
              "      <td>2.0</td>\n",
              "      <td>18/12/2014</td>\n",
              "      <td>09:29</td>\n",
              "      <td>18/12/2014</td>\n",
              "      <td>11:56</td>\n",
              "      <td>3.16</td>\n",
              "      <td>Woodhouse Lane Car Park</td>\n",
              "      <td>APT 7kW Dual Outlet</td>\n",
              "      <td>NaN</td>\n",
              "    </tr>\n",
              "  </tbody>\n",
              "</table>\n",
              "</div>\n",
              "    <div class=\"colab-df-buttons\">\n",
              "\n",
              "  <div class=\"colab-df-container\">\n",
              "    <button class=\"colab-df-convert\" onclick=\"convertToInteractive('df-c2c778e7-7171-457b-ba4c-44abdb384dc2')\"\n",
              "            title=\"Convert this dataframe to an interactive table.\"\n",
              "            style=\"display:none;\">\n",
              "\n",
              "  <svg xmlns=\"http://www.w3.org/2000/svg\" height=\"24px\" viewBox=\"0 -960 960 960\">\n",
              "    <path d=\"M120-120v-720h720v720H120Zm60-500h600v-160H180v160Zm220 220h160v-160H400v160Zm0 220h160v-160H400v160ZM180-400h160v-160H180v160Zm440 0h160v-160H620v160ZM180-180h160v-160H180v160Zm440 0h160v-160H620v160Z\"/>\n",
              "  </svg>\n",
              "    </button>\n",
              "\n",
              "  <style>\n",
              "    .colab-df-container {\n",
              "      display:flex;\n",
              "      gap: 12px;\n",
              "    }\n",
              "\n",
              "    .colab-df-convert {\n",
              "      background-color: #E8F0FE;\n",
              "      border: none;\n",
              "      border-radius: 50%;\n",
              "      cursor: pointer;\n",
              "      display: none;\n",
              "      fill: #1967D2;\n",
              "      height: 32px;\n",
              "      padding: 0 0 0 0;\n",
              "      width: 32px;\n",
              "    }\n",
              "\n",
              "    .colab-df-convert:hover {\n",
              "      background-color: #E2EBFA;\n",
              "      box-shadow: 0px 1px 2px rgba(60, 64, 67, 0.3), 0px 1px 3px 1px rgba(60, 64, 67, 0.15);\n",
              "      fill: #174EA6;\n",
              "    }\n",
              "\n",
              "    .colab-df-buttons div {\n",
              "      margin-bottom: 4px;\n",
              "    }\n",
              "\n",
              "    [theme=dark] .colab-df-convert {\n",
              "      background-color: #3B4455;\n",
              "      fill: #D2E3FC;\n",
              "    }\n",
              "\n",
              "    [theme=dark] .colab-df-convert:hover {\n",
              "      background-color: #434B5C;\n",
              "      box-shadow: 0px 1px 3px 1px rgba(0, 0, 0, 0.15);\n",
              "      filter: drop-shadow(0px 1px 2px rgba(0, 0, 0, 0.3));\n",
              "      fill: #FFFFFF;\n",
              "    }\n",
              "  </style>\n",
              "\n",
              "    <script>\n",
              "      const buttonEl =\n",
              "        document.querySelector('#df-c2c778e7-7171-457b-ba4c-44abdb384dc2 button.colab-df-convert');\n",
              "      buttonEl.style.display =\n",
              "        google.colab.kernel.accessAllowed ? 'block' : 'none';\n",
              "\n",
              "      async function convertToInteractive(key) {\n",
              "        const element = document.querySelector('#df-c2c778e7-7171-457b-ba4c-44abdb384dc2');\n",
              "        const dataTable =\n",
              "          await google.colab.kernel.invokeFunction('convertToInteractive',\n",
              "                                                    [key], {});\n",
              "        if (!dataTable) return;\n",
              "\n",
              "        const docLinkHtml = 'Like what you see? Visit the ' +\n",
              "          '<a target=\"_blank\" href=https://colab.research.google.com/notebooks/data_table.ipynb>data table notebook</a>'\n",
              "          + ' to learn more about interactive tables.';\n",
              "        element.innerHTML = '';\n",
              "        dataTable['output_type'] = 'display_data';\n",
              "        await google.colab.output.renderOutput(dataTable, element);\n",
              "        const docLink = document.createElement('div');\n",
              "        docLink.innerHTML = docLinkHtml;\n",
              "        element.appendChild(docLink);\n",
              "      }\n",
              "    </script>\n",
              "  </div>\n",
              "\n",
              "\n",
              "<div id=\"df-fef8a681-bf67-4d5d-8c6d-d0924d5d2b5a\">\n",
              "  <button class=\"colab-df-quickchart\" onclick=\"quickchart('df-fef8a681-bf67-4d5d-8c6d-d0924d5d2b5a')\"\n",
              "            title=\"Suggest charts.\"\n",
              "            style=\"display:none;\">\n",
              "\n",
              "<svg xmlns=\"http://www.w3.org/2000/svg\" height=\"24px\"viewBox=\"0 0 24 24\"\n",
              "     width=\"24px\">\n",
              "    <g>\n",
              "        <path d=\"M19 3H5c-1.1 0-2 .9-2 2v14c0 1.1.9 2 2 2h14c1.1 0 2-.9 2-2V5c0-1.1-.9-2-2-2zM9 17H7v-7h2v7zm4 0h-2V7h2v10zm4 0h-2v-4h2v4z\"/>\n",
              "    </g>\n",
              "</svg>\n",
              "  </button>\n",
              "\n",
              "<style>\n",
              "  .colab-df-quickchart {\n",
              "      --bg-color: #E8F0FE;\n",
              "      --fill-color: #1967D2;\n",
              "      --hover-bg-color: #E2EBFA;\n",
              "      --hover-fill-color: #174EA6;\n",
              "      --disabled-fill-color: #AAA;\n",
              "      --disabled-bg-color: #DDD;\n",
              "  }\n",
              "\n",
              "  [theme=dark] .colab-df-quickchart {\n",
              "      --bg-color: #3B4455;\n",
              "      --fill-color: #D2E3FC;\n",
              "      --hover-bg-color: #434B5C;\n",
              "      --hover-fill-color: #FFFFFF;\n",
              "      --disabled-bg-color: #3B4455;\n",
              "      --disabled-fill-color: #666;\n",
              "  }\n",
              "\n",
              "  .colab-df-quickchart {\n",
              "    background-color: var(--bg-color);\n",
              "    border: none;\n",
              "    border-radius: 50%;\n",
              "    cursor: pointer;\n",
              "    display: none;\n",
              "    fill: var(--fill-color);\n",
              "    height: 32px;\n",
              "    padding: 0;\n",
              "    width: 32px;\n",
              "  }\n",
              "\n",
              "  .colab-df-quickchart:hover {\n",
              "    background-color: var(--hover-bg-color);\n",
              "    box-shadow: 0 1px 2px rgba(60, 64, 67, 0.3), 0 1px 3px 1px rgba(60, 64, 67, 0.15);\n",
              "    fill: var(--button-hover-fill-color);\n",
              "  }\n",
              "\n",
              "  .colab-df-quickchart-complete:disabled,\n",
              "  .colab-df-quickchart-complete:disabled:hover {\n",
              "    background-color: var(--disabled-bg-color);\n",
              "    fill: var(--disabled-fill-color);\n",
              "    box-shadow: none;\n",
              "  }\n",
              "\n",
              "  .colab-df-spinner {\n",
              "    border: 2px solid var(--fill-color);\n",
              "    border-color: transparent;\n",
              "    border-bottom-color: var(--fill-color);\n",
              "    animation:\n",
              "      spin 1s steps(1) infinite;\n",
              "  }\n",
              "\n",
              "  @keyframes spin {\n",
              "    0% {\n",
              "      border-color: transparent;\n",
              "      border-bottom-color: var(--fill-color);\n",
              "      border-left-color: var(--fill-color);\n",
              "    }\n",
              "    20% {\n",
              "      border-color: transparent;\n",
              "      border-left-color: var(--fill-color);\n",
              "      border-top-color: var(--fill-color);\n",
              "    }\n",
              "    30% {\n",
              "      border-color: transparent;\n",
              "      border-left-color: var(--fill-color);\n",
              "      border-top-color: var(--fill-color);\n",
              "      border-right-color: var(--fill-color);\n",
              "    }\n",
              "    40% {\n",
              "      border-color: transparent;\n",
              "      border-right-color: var(--fill-color);\n",
              "      border-top-color: var(--fill-color);\n",
              "    }\n",
              "    60% {\n",
              "      border-color: transparent;\n",
              "      border-right-color: var(--fill-color);\n",
              "    }\n",
              "    80% {\n",
              "      border-color: transparent;\n",
              "      border-right-color: var(--fill-color);\n",
              "      border-bottom-color: var(--fill-color);\n",
              "    }\n",
              "    90% {\n",
              "      border-color: transparent;\n",
              "      border-bottom-color: var(--fill-color);\n",
              "    }\n",
              "  }\n",
              "</style>\n",
              "\n",
              "  <script>\n",
              "    async function quickchart(key) {\n",
              "      const quickchartButtonEl =\n",
              "        document.querySelector('#' + key + ' button');\n",
              "      quickchartButtonEl.disabled = true;  // To prevent multiple clicks.\n",
              "      quickchartButtonEl.classList.add('colab-df-spinner');\n",
              "      try {\n",
              "        const charts = await google.colab.kernel.invokeFunction(\n",
              "            'suggestCharts', [key], {});\n",
              "      } catch (error) {\n",
              "        console.error('Error during call to suggestCharts:', error);\n",
              "      }\n",
              "      quickchartButtonEl.classList.remove('colab-df-spinner');\n",
              "      quickchartButtonEl.classList.add('colab-df-quickchart-complete');\n",
              "    }\n",
              "    (() => {\n",
              "      let quickchartButtonEl =\n",
              "        document.querySelector('#df-fef8a681-bf67-4d5d-8c6d-d0924d5d2b5a button');\n",
              "      quickchartButtonEl.style.display =\n",
              "        google.colab.kernel.accessAllowed ? 'block' : 'none';\n",
              "    })();\n",
              "  </script>\n",
              "</div>\n",
              "    </div>\n",
              "  </div>\n"
            ]
          },
          "metadata": {},
          "execution_count": 10
        }
      ]
    },
    {
      "cell_type": "code",
      "source": [
        "leeds_comb_df.info()"
      ],
      "metadata": {
        "colab": {
          "base_uri": "https://localhost:8080/"
        },
        "id": "nfBibee4tqrp",
        "outputId": "d2276cd9-d83a-435a-ba19-9ac0b0e7839e"
      },
      "execution_count": 11,
      "outputs": [
        {
          "output_type": "stream",
          "name": "stdout",
          "text": [
            "<class 'pandas.core.frame.DataFrame'>\n",
            "RangeIndex: 48448 entries, 0 to 48447\n",
            "Data columns (total 12 columns):\n",
            " #   Column             Non-Null Count  Dtype  \n",
            "---  ------             --------------  -----  \n",
            " 0   charging_event_id  24224 non-null  float64\n",
            " 1   user_id            24224 non-null  object \n",
            " 2   cp_id              24224 non-null  float64\n",
            " 3   con_num            24224 non-null  float64\n",
            " 4   start_date         24224 non-null  object \n",
            " 5   start_time         24224 non-null  object \n",
            " 6   end_date           23927 non-null  object \n",
            " 7   end_time           23927 non-null  object \n",
            " 8   total_kwh          23927 non-null  float64\n",
            " 9   site               24224 non-null  object \n",
            " 10  charger_model      24224 non-null  object \n",
            " 11  charging_cost      2278 non-null   float64\n",
            "dtypes: float64(5), object(7)\n",
            "memory usage: 4.4+ MB\n"
          ]
        }
      ]
    },
    {
      "cell_type": "code",
      "source": [
        "len(leeds_comb_df[\"charging_event_id\"].unique())"
      ],
      "metadata": {
        "colab": {
          "base_uri": "https://localhost:8080/"
        },
        "id": "MXE4nleHvWmL",
        "outputId": "4c271119-3072-4200-88b5-94325a64c991"
      },
      "execution_count": 12,
      "outputs": [
        {
          "output_type": "execute_result",
          "data": {
            "text/plain": [
              "24225"
            ]
          },
          "metadata": {},
          "execution_count": 12
        }
      ]
    },
    {
      "cell_type": "code",
      "source": [
        "len(leeds_comb_df[\"user_id\"].unique())"
      ],
      "metadata": {
        "colab": {
          "base_uri": "https://localhost:8080/"
        },
        "id": "x4RAyMqjyWXU",
        "outputId": "c4ae5710-5121-4255-e70c-fa807f87f052"
      },
      "execution_count": 13,
      "outputs": [
        {
          "output_type": "execute_result",
          "data": {
            "text/plain": [
              "1898"
            ]
          },
          "metadata": {},
          "execution_count": 13
        }
      ]
    },
    {
      "cell_type": "code",
      "source": [
        "leeds_comb_df[\"site\"].unique()"
      ],
      "metadata": {
        "colab": {
          "base_uri": "https://localhost:8080/"
        },
        "id": "etZiIxxnyn8y",
        "outputId": "8429d9bb-4952-4d4e-e402-46921df9912d"
      },
      "execution_count": 14,
      "outputs": [
        {
          "output_type": "execute_result",
          "data": {
            "text/plain": [
              "array(['Elland Road Park and Ride', 'Woodhouse Lane Car Park',\n",
              "       'Temple Green Park and Ride', 'Wellington Place ',\n",
              "       'Torre Road Council Depot', nan,\n",
              "       '***TEST SITE*** Charge Your Car HQ'], dtype=object)"
            ]
          },
          "metadata": {},
          "execution_count": 14
        }
      ]
    },
    {
      "cell_type": "code",
      "source": [
        "leeds_comb_df[\"charger_model\"].unique()"
      ],
      "metadata": {
        "colab": {
          "base_uri": "https://localhost:8080/"
        },
        "id": "rdmYIzc8y8ba",
        "outputId": "d88a47f4-0937-4b8b-f38f-c5ad0306a642"
      },
      "execution_count": 15,
      "outputs": [
        {
          "output_type": "execute_result",
          "data": {
            "text/plain": [
              "array(['APT 7kW Dual Outlet', 'APT Triple Rapid Charger',\n",
              "       'APT 7kW (Powershare)', nan], dtype=object)"
            ]
          },
          "metadata": {},
          "execution_count": 15
        }
      ]
    },
    {
      "cell_type": "code",
      "source": [
        "leeds_comb_df[\"con_num\"].unique()"
      ],
      "metadata": {
        "colab": {
          "base_uri": "https://localhost:8080/"
        },
        "id": "KGdrkMMczEXh",
        "outputId": "a9bab0dc-51b0-4bb2-87b3-b1cfd7e1c602"
      },
      "execution_count": 16,
      "outputs": [
        {
          "output_type": "execute_result",
          "data": {
            "text/plain": [
              "array([ 2.,  1., nan])"
            ]
          },
          "metadata": {},
          "execution_count": 16
        }
      ]
    },
    {
      "cell_type": "code",
      "source": [
        "leeds_comb_df[\"con_num\"].unique()"
      ],
      "metadata": {
        "id": "P4m9XhcnzMFH",
        "colab": {
          "base_uri": "https://localhost:8080/"
        },
        "outputId": "a48bd615-1dbb-4c9d-d248-4b1e75969dee"
      },
      "execution_count": 18,
      "outputs": [
        {
          "output_type": "execute_result",
          "data": {
            "text/plain": [
              "array([ 2.,  1., nan])"
            ]
          },
          "metadata": {},
          "execution_count": 18
        }
      ]
    },
    {
      "cell_type": "code",
      "source": [],
      "metadata": {
        "id": "MxewSGS28eR9"
      },
      "execution_count": null,
      "outputs": []
    }
  ]
}