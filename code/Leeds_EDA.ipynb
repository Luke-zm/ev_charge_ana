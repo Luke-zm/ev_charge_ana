{
 "cells": [
  {
   "cell_type": "markdown",
   "id": "778afd57-69ae-4c3c-846e-91c52ce5296d",
   "metadata": {},
   "source": [
    "# Leeds EDA\n",
    "\n",
    "This notebook contains the EDA process of the Leeds City Council EV charging dataset, ranging from 2014 to 2021 Q1.  \n",
    "\n",
    "Contents:  \n",
    "[Combine Datasets](#Combine-Datasets)  "
   ]
  },
  {
   "cell_type": "code",
   "execution_count": 2,
   "id": "2308ca62-f6a9-4632-841b-9ddbc3e392d2",
   "metadata": {
    "tags": []
   },
   "outputs": [],
   "source": [
    "# Import the necessary packages\n",
    "import os\n",
    "import pandas as pd\n",
    "import numpy as np\n",
    "import seaborn as sns\n",
    "import matplotlib.pyplot as plt"
   ]
  },
  {
   "cell_type": "markdown",
   "id": "68464842-82f0-4db3-91e3-55da69dbc46d",
   "metadata": {},
   "source": [
    "## Combine Datasets\n",
    "\n",
    "The datasets are first combined before being analyised.  "
   ]
  },
  {
   "cell_type": "code",
   "execution_count": 8,
   "id": "309c56c1-4f5b-4c8b-abe4-96f8269240a8",
   "metadata": {
    "tags": []
   },
   "outputs": [
    {
     "data": {
      "text/html": [
       "<div>\n",
       "<style scoped>\n",
       "    .dataframe tbody tr th:only-of-type {\n",
       "        vertical-align: middle;\n",
       "    }\n",
       "\n",
       "    .dataframe tbody tr th {\n",
       "        vertical-align: top;\n",
       "    }\n",
       "\n",
       "    .dataframe thead th {\n",
       "        text-align: right;\n",
       "    }\n",
       "</style>\n",
       "<table border=\"1\" class=\"dataframe\">\n",
       "  <thead>\n",
       "    <tr style=\"text-align: right;\">\n",
       "      <th></th>\n",
       "      <th>Charging event</th>\n",
       "      <th>User ID</th>\n",
       "      <th>CP ID</th>\n",
       "      <th>Connector</th>\n",
       "      <th>Start Date</th>\n",
       "      <th>Start Time</th>\n",
       "      <th>End Date</th>\n",
       "      <th>End Time</th>\n",
       "      <th>Total kWh</th>\n",
       "      <th>Site</th>\n",
       "      <th>Model</th>\n",
       "      <th>Unique User ID</th>\n",
       "      <th>Unnamed: 11</th>\n",
       "      <th>Unnamed: 12</th>\n",
       "      <th>Unnamed: 13</th>\n",
       "      <th>Cost</th>\n",
       "    </tr>\n",
       "  </thead>\n",
       "  <tbody>\n",
       "    <tr>\n",
       "      <th>0</th>\n",
       "      <td>4105202</td>\n",
       "      <td>User 690</td>\n",
       "      <td>70204</td>\n",
       "      <td>1</td>\n",
       "      <td>01/01/2018</td>\n",
       "      <td>16:11</td>\n",
       "      <td>01/01/2018</td>\n",
       "      <td>19:03</td>\n",
       "      <td>5.89</td>\n",
       "      <td>Woodhouse Lane Car Park</td>\n",
       "      <td>APT 7kW Dual Outlet</td>\n",
       "      <td>NaN</td>\n",
       "      <td>NaN</td>\n",
       "      <td>NaN</td>\n",
       "      <td>NaN</td>\n",
       "      <td>NaN</td>\n",
       "    </tr>\n",
       "    <tr>\n",
       "      <th>1</th>\n",
       "      <td>4105706</td>\n",
       "      <td>User 406</td>\n",
       "      <td>70204</td>\n",
       "      <td>2</td>\n",
       "      <td>02/01/2018</td>\n",
       "      <td>07:05</td>\n",
       "      <td>02/01/2018</td>\n",
       "      <td>17:05</td>\n",
       "      <td>14.30</td>\n",
       "      <td>Woodhouse Lane Car Park</td>\n",
       "      <td>APT 7kW Dual Outlet</td>\n",
       "      <td>NaN</td>\n",
       "      <td>NaN</td>\n",
       "      <td>NaN</td>\n",
       "      <td>NaN</td>\n",
       "      <td>NaN</td>\n",
       "    </tr>\n",
       "    <tr>\n",
       "      <th>2</th>\n",
       "      <td>4105757</td>\n",
       "      <td>User 716</td>\n",
       "      <td>70206</td>\n",
       "      <td>2</td>\n",
       "      <td>02/01/2018</td>\n",
       "      <td>08:01</td>\n",
       "      <td>02/01/2018</td>\n",
       "      <td>18:50</td>\n",
       "      <td>18.66</td>\n",
       "      <td>Elland Road Park and Ride</td>\n",
       "      <td>APT 7kW Dual Outlet</td>\n",
       "      <td>NaN</td>\n",
       "      <td>NaN</td>\n",
       "      <td>NaN</td>\n",
       "      <td>NaN</td>\n",
       "      <td>NaN</td>\n",
       "    </tr>\n",
       "    <tr>\n",
       "      <th>3</th>\n",
       "      <td>4105869</td>\n",
       "      <td>User 706</td>\n",
       "      <td>70207</td>\n",
       "      <td>2</td>\n",
       "      <td>02/01/2018</td>\n",
       "      <td>09:09</td>\n",
       "      <td>02/01/2018</td>\n",
       "      <td>09:10</td>\n",
       "      <td>0.02</td>\n",
       "      <td>Elland Road Park and Ride</td>\n",
       "      <td>APT 7kW Dual Outlet</td>\n",
       "      <td>NaN</td>\n",
       "      <td>NaN</td>\n",
       "      <td>NaN</td>\n",
       "      <td>NaN</td>\n",
       "      <td>NaN</td>\n",
       "    </tr>\n",
       "    <tr>\n",
       "      <th>4</th>\n",
       "      <td>4105870</td>\n",
       "      <td>User 706</td>\n",
       "      <td>70207</td>\n",
       "      <td>2</td>\n",
       "      <td>02/01/2018</td>\n",
       "      <td>09:11</td>\n",
       "      <td>02/01/2018</td>\n",
       "      <td>19:09</td>\n",
       "      <td>5.95</td>\n",
       "      <td>Elland Road Park and Ride</td>\n",
       "      <td>APT 7kW Dual Outlet</td>\n",
       "      <td>NaN</td>\n",
       "      <td>NaN</td>\n",
       "      <td>NaN</td>\n",
       "      <td>NaN</td>\n",
       "      <td>NaN</td>\n",
       "    </tr>\n",
       "  </tbody>\n",
       "</table>\n",
       "</div>"
      ],
      "text/plain": [
       "   Charging event   User ID  CP ID  Connector  Start Date Start Time  \\\n",
       "0         4105202  User 690  70204          1  01/01/2018      16:11   \n",
       "1         4105706  User 406  70204          2  02/01/2018      07:05   \n",
       "2         4105757  User 716  70206          2  02/01/2018      08:01   \n",
       "3         4105869  User 706  70207          2  02/01/2018      09:09   \n",
       "4         4105870  User 706  70207          2  02/01/2018      09:11   \n",
       "\n",
       "     End Date End Time  Total kWh                       Site  \\\n",
       "0  01/01/2018    19:03       5.89    Woodhouse Lane Car Park   \n",
       "1  02/01/2018    17:05      14.30    Woodhouse Lane Car Park   \n",
       "2  02/01/2018    18:50      18.66  Elland Road Park and Ride   \n",
       "3  02/01/2018    09:10       0.02  Elland Road Park and Ride   \n",
       "4  02/01/2018    19:09       5.95  Elland Road Park and Ride   \n",
       "\n",
       "                 Model Unique User ID  Unnamed: 11  Unnamed: 12  Unnamed: 13  \\\n",
       "0  APT 7kW Dual Outlet            NaN          NaN          NaN          NaN   \n",
       "1  APT 7kW Dual Outlet            NaN          NaN          NaN          NaN   \n",
       "2  APT 7kW Dual Outlet            NaN          NaN          NaN          NaN   \n",
       "3  APT 7kW Dual Outlet            NaN          NaN          NaN          NaN   \n",
       "4  APT 7kW Dual Outlet            NaN          NaN          NaN          NaN   \n",
       "\n",
       "   Cost  \n",
       "0   NaN  \n",
       "1   NaN  \n",
       "2   NaN  \n",
       "3   NaN  \n",
       "4   NaN  "
      ]
     },
     "execution_count": 8,
     "metadata": {},
     "output_type": "execute_result"
    }
   ],
   "source": [
    "# Read in all .csv files in data\n",
    "path = \"../data/\"\n",
    "os.chdir(path)\n",
    "csv_files = csv_files = [f for f in os.listdir() if f.endswith('.csv')]\n",
    "\n",
    "dfs = []\n",
    "# Import all .csv files\n",
    "for csv in csv_files:\n",
    "    df = pd.read_csv(csv)\n",
    "    dfs.append(df)\n",
    "\n",
    "# Combine the dataframes\n",
    "ev_df = pd.concat(dfs, ignore_index=True)\n",
    "\n",
    "# Examine contents of dataframe\n",
    "ev_df.head()"
   ]
  },
  {
   "cell_type": "code",
   "execution_count": 13,
   "id": "57737046-cbf2-4633-9667-c8ec4d17e6b8",
   "metadata": {
    "tags": []
   },
   "outputs": [
    {
     "data": {
      "text/plain": [
       "(24224, 16)"
      ]
     },
     "execution_count": 13,
     "metadata": {},
     "output_type": "execute_result"
    }
   ],
   "source": [
    "ev_df.shape"
   ]
  },
  {
   "cell_type": "code",
   "execution_count": 12,
   "id": "8a3b0b95-6f89-4bb9-916c-a32c0132dc51",
   "metadata": {
    "tags": []
   },
   "outputs": [
    {
     "name": "stdout",
     "output_type": "stream",
     "text": [
      "<class 'pandas.core.frame.DataFrame'>\n",
      "RangeIndex: 24224 entries, 0 to 24223\n",
      "Data columns (total 16 columns):\n",
      " #   Column          Non-Null Count  Dtype  \n",
      "---  ------          --------------  -----  \n",
      " 0   Charging event  24224 non-null  int64  \n",
      " 1   User ID         23213 non-null  object \n",
      " 2   CP ID           24224 non-null  int64  \n",
      " 3   Connector       24224 non-null  int64  \n",
      " 4   Start Date      24224 non-null  object \n",
      " 5   Start Time      24224 non-null  object \n",
      " 6   End Date        23927 non-null  object \n",
      " 7   End Time        23927 non-null  object \n",
      " 8   Total kWh       23927 non-null  float64\n",
      " 9   Site            24224 non-null  object \n",
      " 10  Model           24224 non-null  object \n",
      " 11  Unique User ID  1011 non-null   object \n",
      " 12  Unnamed: 11     0 non-null      float64\n",
      " 13  Unnamed: 12     0 non-null      float64\n",
      " 14  Unnamed: 13     0 non-null      float64\n",
      " 15  Cost            2278 non-null   float64\n",
      "dtypes: float64(5), int64(3), object(8)\n",
      "memory usage: 3.0+ MB\n"
     ]
    }
   ],
   "source": [
    "ev_df.info()"
   ]
  },
  {
   "cell_type": "code",
   "execution_count": 16,
   "id": "3c99dc0d-7040-4598-806a-df99dbdc131c",
   "metadata": {
    "tags": []
   },
   "outputs": [],
   "source": [
    "unique_user = ev_df[\"User ID\"].unique()"
   ]
  },
  {
   "cell_type": "code",
   "execution_count": 17,
   "id": "b58af3e0-57d9-49b3-9c48-d08c0be83fb7",
   "metadata": {
    "tags": []
   },
   "outputs": [
    {
     "data": {
      "text/plain": [
       "1039"
      ]
     },
     "execution_count": 17,
     "metadata": {},
     "output_type": "execute_result"
    }
   ],
   "source": [
    "len(unique_user)"
   ]
  },
  {
   "cell_type": "code",
   "execution_count": null,
   "id": "7545930f-58a7-4973-9fcd-ee86da2c1942",
   "metadata": {},
   "outputs": [],
   "source": [
    "# Test to check if 2 users are the same or not... \n",
    "# Different year may not be the same user...."
   ]
  },
  {
   "cell_type": "code",
   "execution_count": null,
   "id": "db32277c-1eae-4cfe-9429-5a256f166129",
   "metadata": {},
   "outputs": [],
   "source": []
  },
  {
   "cell_type": "code",
   "execution_count": null,
   "id": "d00d13c4-c11a-47e0-9399-24940fc48c28",
   "metadata": {},
   "outputs": [],
   "source": []
  }
 ],
 "metadata": {
  "kernelspec": {
   "display_name": "Python [conda env:nus_i4_gen]",
   "language": "python",
   "name": "conda-env-nus_i4_gen-py"
  },
  "language_info": {
   "codemirror_mode": {
    "name": "ipython",
    "version": 3
   },
   "file_extension": ".py",
   "mimetype": "text/x-python",
   "name": "python",
   "nbconvert_exporter": "python",
   "pygments_lexer": "ipython3",
   "version": "3.11.4"
  }
 },
 "nbformat": 4,
 "nbformat_minor": 5
}
